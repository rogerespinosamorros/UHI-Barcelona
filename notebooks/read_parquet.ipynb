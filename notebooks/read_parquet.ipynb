{
 "cells": [
  {
   "cell_type": "code",
   "execution_count": 1,
   "id": "ab123b02",
   "metadata": {},
   "outputs": [
    {
     "name": "stdout",
     "output_type": "stream",
     "text": [
      "<class 'pandas.core.frame.DataFrame'>\n",
      "RangeIndex: 16438 entries, 0 to 16437\n",
      "Data columns (total 11 columns):\n",
      " #   Column      Non-Null Count  Dtype         \n",
      "---  ------      --------------  -----         \n",
      " 0   fecha       16438 non-null  datetime64[ns]\n",
      " 1   indicativo  1 non-null      object        \n",
      " 2   nombre      1 non-null      object        \n",
      " 3   provincia   1 non-null      object        \n",
      " 4   altitud     1 non-null      float64       \n",
      " 5   tmed        333 non-null    float64       \n",
      " 6   tmin        319 non-null    float64       \n",
      " 7   tmax        360 non-null    float64       \n",
      " 8   prec        428 non-null    float64       \n",
      " 9   racha       121 non-null    float64       \n",
      " 10  sol         277 non-null    float64       \n",
      "dtypes: datetime64[ns](1), float64(7), object(3)\n",
      "memory usage: 1.4+ MB\n",
      "None\n",
      "       fecha indicativo            nombre  provincia  altitud  tmed  tmin  \\\n",
      "0 1980-01-01      0200E  BARCELONA, FABRA  BARCELONA    408.0   7.2   3.2   \n",
      "1 1980-01-02       None              None       None      NaN   6.8   3.8   \n",
      "2 1980-01-03       None              None       None      NaN   5.3   3.0   \n",
      "3 1980-01-04       None              None       None      NaN   7.1   2.6   \n",
      "4 1980-01-05       None              None       None      NaN   6.4   NaN   \n",
      "\n",
      "   tmax  prec  racha  sol  \n",
      "0  11.2   0.0    5.8  5.5  \n",
      "1   9.8   NaN    6.7  5.0  \n",
      "2   7.6   NaN    3.3  7.2  \n",
      "3  11.6   NaN    NaN  9.2  \n",
      "4   9.1   NaN    6.1  5.4  \n"
     ]
    }
   ],
   "source": [
    "import pandas as pd\n",
    "df = pd.read_parquet(\"../data/processed/aemet/0200E_daily.parquet\")\n",
    "print(df.info())\n",
    "print(df.head())"
   ]
  },
  {
   "cell_type": "code",
   "execution_count": null,
   "id": "3890bd9f",
   "metadata": {},
   "outputs": [],
   "source": []
  }
 ],
 "metadata": {
  "kernelspec": {
   "display_name": "tfg-uhi",
   "language": "python",
   "name": "python3"
  },
  "language_info": {
   "codemirror_mode": {
    "name": "ipython",
    "version": 3
   },
   "file_extension": ".py",
   "mimetype": "text/x-python",
   "name": "python",
   "nbconvert_exporter": "python",
   "pygments_lexer": "ipython3",
   "version": "3.11.14"
  }
 },
 "nbformat": 4,
 "nbformat_minor": 5
}
